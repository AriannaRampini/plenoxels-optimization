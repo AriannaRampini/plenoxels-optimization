{
 "cells": [
  {
   "cell_type": "code",
   "execution_count": null,
   "id": "22beb390",
   "metadata": {},
   "outputs": [],
   "source": [
    "import numpy as np"
   ]
  },
  {
   "cell_type": "code",
   "execution_count": null,
   "id": "3fa73d68",
   "metadata": {},
   "outputs": [],
   "source": []
  }
 ],
 "metadata": {
  "kernelspec": {
   "display_name": "Environment (conda_plenoxel)",
   "language": "python",
   "name": "conda_plenoxel"
  }
 },
 "nbformat": 4,
 "nbformat_minor": 5
}
