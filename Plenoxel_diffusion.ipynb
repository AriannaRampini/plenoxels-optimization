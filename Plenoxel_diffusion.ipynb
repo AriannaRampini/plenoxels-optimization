{
 "cells": [
  {
   "cell_type": "code",
   "execution_count": 1,
   "id": "22beb390",
   "metadata": {},
   "outputs": [],
   "source": [
    "%load_ext autoreload\n",
    "%autoreload 2"
   ]
  },
  {
   "cell_type": "code",
   "execution_count": 2,
   "id": "3fa73d68",
   "metadata": {},
   "outputs": [
    {
     "name": "stdout",
     "output_type": "stream",
     "text": [
      "Data in the grid:\n",
      "radius\n",
      "center\n",
      "links\n",
      "density_data\n",
      "sh_data\n",
      "basis_type\n",
      "\n",
      "links: Dense 3D index array with pointers into array with occupied voxels.\n",
      "shape = (16, 16, 16)\n",
      "\n",
      "density: Occupied voxels scalar opacity/density.\n",
      "shape = (2662, 1)\n",
      "\n",
      "sh: Occupied voxels vector of spherical harmonic coefficients for each color channel.\n",
      "shape = (2662, 27)\n"
     ]
    }
   ],
   "source": [
    "# Load plenoxels\n",
    "import numpy as np\n",
    "import os\n",
    "\n",
    "ckpt_path = 'ckpt/test_16'\n",
    "plenoxels = np.load(os.path.join(ckpt_path, 'ckpt.npz'))\n",
    "\n",
    "print('Data in the grid:')\n",
    "lst = plenoxels.files\n",
    "for item in lst:\n",
    "    print(item)\n",
    "#     print(data[item])\n",
    "\n",
    "links   = plenoxels['links']\n",
    "density = plenoxels['density_data']\n",
    "sh      = plenoxels['sh_data']\n",
    "\n",
    "print('\\nlinks: Dense 3D index array with pointers into array with occupied voxels.')\n",
    "print(f'shape = {links.shape}')\n",
    "\n",
    "print('\\ndensity: Occupied voxels scalar opacity/density.')\n",
    "print(f'shape = {density.shape}')\n",
    "\n",
    "print('\\nsh: Occupied voxels vector of spherical harmonic coefficients for each color channel.')\n",
    "print(f'shape = {sh.shape}')\n"
   ]
  },
  {
   "cell_type": "code",
   "execution_count": 3,
   "id": "5a83c5d3",
   "metadata": {},
   "outputs": [
    {
     "name": "stdout",
     "output_type": "stream",
     "text": [
      "Detected NeRF (Blender) dataset\n",
      "LOAD DATA /data/datasets/nerf_synthetic/lego/test\n"
     ]
    },
    {
     "name": "stderr",
     "output_type": "stream",
     "text": [
      "100%|██████████████████████████████████████████████████████████████████████████████████████████| 200/200 [00:04<00:00, 49.56it/s]\n"
     ]
    }
   ],
   "source": [
    "# Rendering setup\n",
    "import sys\n",
    "sys.path.append('opt')\n",
    "\n",
    "device = 'cuda:0'\n",
    "\n",
    "# Load config\n",
    "import json\n",
    "from util import config_util\n",
    "\n",
    "config_path = os.path.join(ckpt_path, 'args.json')\n",
    "with open(config_path, \"r\") as config_file:\n",
    "    config = json.load(config_file)\n",
    "\n",
    "# Use instead of argument parser:\n",
    "class Args():\n",
    "    def __init__(self, config):\n",
    "        for k, v in config.items():\n",
    "            setattr(self, k, v)\n",
    "args = Args(config)\n",
    "\n",
    "# Additional arguments:\n",
    "args.train = False\n",
    "args.ckpt  = os.path.join(ckpt_path, 'ckpt.npz')\n",
    "\n",
    "\n",
    "# Load dataset\n",
    "from util.dataset import datasets\n",
    "dset = datasets[args.dataset_type](args.data_dir, split=\"test_train\" if args.train else \"test\",\n",
    "                                     **config_util.build_data_options(args))\n",
    "\n",
    "# Instantiate grid\n",
    "import svox2\n",
    "grid = svox2.SparseGrid.load(args.ckpt, device=device)\n",
    "\n",
    "\n",
    "config_util.setup_render_opts(grid.opt, args)"
   ]
  },
  {
   "cell_type": "code",
   "execution_count": null,
   "id": "d1640797",
   "metadata": {},
   "outputs": [],
   "source": []
  },
  {
   "cell_type": "code",
   "execution_count": null,
   "id": "1f4608fe",
   "metadata": {},
   "outputs": [],
   "source": [
    "config['train']"
   ]
  },
  {
   "cell_type": "code",
   "execution_count": null,
   "id": "5351e940",
   "metadata": {},
   "outputs": [],
   "source": [
    "!ls"
   ]
  }
 ],
 "metadata": {
  "kernelspec": {
   "display_name": "Environment (conda_plenoxel)",
   "language": "python",
   "name": "conda_plenoxel"
  },
  "language_info": {
   "codemirror_mode": {
    "name": "ipython",
    "version": 3
   },
   "file_extension": ".py",
   "mimetype": "text/x-python",
   "name": "python",
   "nbconvert_exporter": "python",
   "pygments_lexer": "ipython3",
   "version": "3.8.8"
  }
 },
 "nbformat": 4,
 "nbformat_minor": 5
}
